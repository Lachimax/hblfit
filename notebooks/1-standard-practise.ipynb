{
 "cells": [
  {
   "cell_type": "markdown",
   "metadata": {},
   "source": [
    "Based on _Hogg, Bovy & Lang (2010)_ Section 1: Standard Practise (p. 3)"
   ]
  },
  {
   "cell_type": "code",
   "execution_count": 1,
   "metadata": {},
   "outputs": [],
   "source": [
    "import numpy as np\n",
    "import os\n",
    "import pkg_resources\n",
    "import hblfit.data as dat\n",
    "import matplotlib.pyplot as plt"
   ]
  },
  {
   "cell_type": "markdown",
   "metadata": {},
   "source": [
    "Import Table 1 (HBL 2010 p. 6) from file."
   ]
  },
  {
   "cell_type": "code",
   "execution_count": 2,
   "metadata": {},
   "outputs": [
    {
     "data": {
      "text/html": [
       "<div><i>Table length=20</i>\n",
       "<table id=\"table140290707285904\" class=\"table-striped table-bordered table-condensed\">\n",
       "<thead><tr><th>id</th><th>x</th><th>y</th><th>sigma_y</th><th>sigma_x</th><th>rho_xy</th></tr></thead>\n",
       "<thead><tr><th>int64</th><th>int64</th><th>int64</th><th>int64</th><th>int64</th><th>float64</th></tr></thead>\n",
       "<tr><td>1</td><td>201</td><td>592</td><td>61</td><td>9</td><td>-0.84</td></tr>\n",
       "<tr><td>...</td><td>...</td><td>...</td><td>...</td><td>...</td><td>...</td></tr>\n",
       "<tr><td>19</td><td>218</td><td>533</td><td>16</td><td>6</td><td>-0.78</td></tr>\n",
       "<tr><td>20</td><td>146</td><td>344</td><td>22</td><td>5</td><td>-0.56</td></tr>\n",
       "</table></div>"
      ],
      "text/plain": [
       "<Table length=20>\n",
       "  id    x     y   sigma_y sigma_x  rho_xy\n",
       "int64 int64 int64  int64   int64  float64\n",
       "----- ----- ----- ------- ------- -------\n",
       "    1   201   592      61       9   -0.84\n",
       "  ...   ...   ...     ...     ...     ...\n",
       "   19   218   533      16       6   -0.78\n",
       "   20   146   344      22       5   -0.56"
      ]
     },
     "execution_count": 2,
     "metadata": {},
     "output_type": "execute_result"
    }
   ],
   "source": [
    "table_1 = dat.get_table(1)\n",
    "table_1"
   ]
  },
  {
   "cell_type": "markdown",
   "metadata": {},
   "source": [
    "# Exercise 1\n",
    "\n",
    "__Using the standard linear algebra method of this Section, fit the straight line $y = mx + b$ to the $x$, $y$, and $σ_y$ values for data points 5 through 20 in Table 1 on page 6. That is, ignore the first four data points, and also ignore the columns for $σ_x$ and $ρ_{xy}$. Make a plot showing the points, their uncertainties, and the best-fit line. Your plot should end up looking like Figure 1. What is the standard uncertainty variance $σ^2_m$\n",
    "on the slope of the line?__"
   ]
  },
  {
   "cell_type": "code",
   "execution_count": 3,
   "metadata": {},
   "outputs": [],
   "source": [
    "table_exercise_1 = table_1[4:]\n",
    "x = np.array(table_exercise_1[\"x\"])\n",
    "y = np.array(table_exercise_1[\"y\"])\n",
    "sigma_y = np.array(table_exercise_1[\"sigma_y\"])"
   ]
  },
  {
   "cell_type": "markdown",
   "metadata": {},
   "source": [
    "First, we set up $\\mathbf{A}$ and $\\mathbf{A}^\\mathrm{T}$ according to __Equation 3__:"
   ]
  },
  {
   "cell_type": "code",
   "execution_count": 4,
   "metadata": {},
   "outputs": [
    {
     "data": {
      "text/plain": [
       "array([[  1., 203.],\n",
       "       [  1.,  58.],\n",
       "       [  1., 210.],\n",
       "       [  1., 202.],\n",
       "       [  1., 198.],\n",
       "       [  1., 158.],\n",
       "       [  1., 165.],\n",
       "       [  1., 201.],\n",
       "       [  1., 157.],\n",
       "       [  1., 131.],\n",
       "       [  1., 166.],\n",
       "       [  1., 160.],\n",
       "       [  1., 186.],\n",
       "       [  1., 125.],\n",
       "       [  1., 218.],\n",
       "       [  1., 146.]])"
      ]
     },
     "execution_count": 4,
     "metadata": {},
     "output_type": "execute_result"
    }
   ],
   "source": [
    "A = np.ones((x.shape[0], 2))\n",
    "A[:, 1] = x\n",
    "A"
   ]
  },
  {
   "cell_type": "code",
   "execution_count": 5,
   "metadata": {},
   "outputs": [
    {
     "data": {
      "text/plain": [
       "array([[  1.,   1.,   1.,   1.,   1.,   1.,   1.,   1.,   1.,   1.,   1.,\n",
       "          1.,   1.,   1.,   1.,   1.],\n",
       "       [203.,  58., 210., 202., 198., 158., 165., 201., 157., 131., 166.,\n",
       "        160., 186., 125., 218., 146.]])"
      ]
     },
     "execution_count": 5,
     "metadata": {},
     "output_type": "execute_result"
    }
   ],
   "source": [
    "A_T = A.transpose()\n",
    "A_T"
   ]
  },
  {
   "cell_type": "markdown",
   "metadata": {},
   "source": [
    "Let's set up the covariance matrix, and its inverse, according to __Equation 4__:"
   ]
  },
  {
   "cell_type": "code",
   "execution_count": 6,
   "metadata": {},
   "outputs": [],
   "source": [
    "C = np.zeros((y.shape[0], y.shape[0]))\n",
    "C_inverse = np.zeros((y.shape[0], y.shape[0]))\n",
    "for i, sigma in enumerate(sigma_y):\n",
    "    C[i, i] = sigma\n",
    "    C_inverse[i, i] = 1 / sigma"
   ]
  },
  {
   "cell_type": "markdown",
   "metadata": {},
   "source": [
    "Now find (b, m) according to __Equation 5__:"
   ]
  },
  {
   "cell_type": "code",
   "execution_count": 7,
   "metadata": {},
   "outputs": [
    {
     "data": {
      "text/plain": [
       "(33.45048482976745, 2.2213630039593824)"
      ]
     },
     "execution_count": 7,
     "metadata": {},
     "output_type": "execute_result"
    }
   ],
   "source": [
    "X = np.matmul(np.linalg.inv(np.matmul(A_T, np.matmul(C_inverse, A))), np.matmul(A_T, np.matmul(C_inverse, y)))\n",
    "b, m = X\n",
    "b, m"
   ]
  },
  {
   "cell_type": "markdown",
   "metadata": {},
   "source": [
    "Here's our plot:"
   ]
  },
  {
   "cell_type": "code",
   "execution_count": 8,
   "metadata": {},
   "outputs": [
    {
     "data": {
      "text/plain": [
       "[<matplotlib.lines.Line2D at 0x7f97b3ceda30>]"
      ]
     },
     "execution_count": 8,
     "metadata": {},
     "output_type": "execute_result"
    },
    {
     "data": {
      "image/png": "[encoded data removed]",
      "text/plain": [
       "<Figure size 432x288 with 1 Axes>"
      ]
     },
     "metadata": {
      "needs_background": "light"
     },
     "output_type": "display_data"
    }
   ],
   "source": [
    "x_model = np.linspace(0, 280)\n",
    "y_model = m * x_model + b\n",
    "y_hat = m * x + b\n",
    "fig, ax = plt.subplots(1, 1)\n",
    "ax.errorbar(x, y, yerr=sigma_y, fmt='o')\n",
    "ax.plot(x_model, y_model)"
   ]
  },
  {
   "cell_type": "markdown",
   "metadata": {},
   "source": [
    "I am unsure if this is what the paper means by 'standard uncertainty variance', but this seems reasonable:"
   ]
  },
  {
   "cell_type": "code",
   "execution_count": 9,
   "metadata": {},
   "outputs": [
    {
     "data": {
      "text/plain": [
       "21.586514975815327"
      ]
     },
     "execution_count": 9,
     "metadata": {},
     "output_type": "execute_result"
    }
   ],
   "source": [
    "variance_m = np.sum(y - y_hat)**2 / len(y)\n",
    "np.sqrt(variance_m)"
   ]
  },
  {
   "cell_type": "markdown",
   "metadata": {},
   "source": [
    "Let's turn this into a function:"
   ]
  },
  {
   "cell_type": "code",
   "execution_count": 10,
   "metadata": {},
   "outputs": [],
   "source": [
    "def linear_standard(x, y, sigma_y):\n",
    "    # First, we set up matrix A according to Equation 3:\n",
    "    A = np.ones((x.shape[0], 2))\n",
    "    A[:, 1] = x\n",
    "    A_T = A.transpose()\n",
    "    # Let's set up the covariance matrix, and its inverse, according to Equation 4:\n",
    "    C = np.zeros((y.shape[0], y.shape[0]))\n",
    "    C_inverse = np.zeros((y.shape[0], y.shape[0]))\n",
    "    for i, sigma in enumerate(sigma_y):\n",
    "        C[i, i] = sigma\n",
    "        C_inverse[i, i] = 1 / sigma\n",
    "    # Now find (b, m) according to Equation 5:\n",
    "    X = np.matmul(np.linalg.inv(np.matmul(A_T, np.matmul(C_inverse, A))), np.matmul(A_T, np.matmul(C_inverse, y)))\n",
    "    b, m = X\n",
    "    return b, m"
   ]
  },
  {
   "cell_type": "markdown",
   "metadata": {},
   "source": [
    "# Exercise 2\n",
    "__Repeat Exercise 1 but for all the data points in Table 1 on page 6. Your plot should end up looking like Figure 2. What is the standard uncertainty variance $σ^2_m$ on the slope of the line? Is there anything you don’t\n",
    "like about the result? Is there anything different about the new points you have included beyond those used in Exercise 1?__"
   ]
  },
  {
   "cell_type": "markdown",
   "metadata": {},
   "source": [
    "As above, but this time with the full data set:"
   ]
  },
  {
   "cell_type": "code",
   "execution_count": 11,
   "metadata": {},
   "outputs": [
    {
     "name": "stdout",
     "output_type": "stream",
     "text": [
      "0.8965818959896872 252.472028522875\n"
     ]
    },
    {
     "data": {
      "image/png": "[encoded data removed]",
      "text/plain": [
       "<Figure size 432x288 with 1 Axes>"
      ]
     },
     "metadata": {
      "needs_background": "light"
     },
     "output_type": "display_data"
    }
   ],
   "source": [
    "x = np.array(table_1[\"x\"])\n",
    "y = np.array(table_1[\"y\"])\n",
    "sigma_y = np.array(table_1[\"sigma_y\"])\n",
    "\n",
    "b, m = linear_standard(x, y, sigma_y)\n",
    "\n",
    "y_model = m * x_model + b\n",
    "\n",
    "fig, ax = plt.subplots(1, 1)\n",
    "ax.errorbar(x, y, yerr=sigma_y, fmt='o')\n",
    "ax.plot(x_model, y_model)\n",
    "\n",
    "print(m, b)"
   ]
  },
  {
   "cell_type": "markdown",
   "metadata": {},
   "source": [
    "# Exercise 3\n",
    "__Generalize the method of this Section to fit a general quadratic (second order) relationship. Add another column to matrix $\\mathbf{A}$ containing the values $x^2_i$, and another element to vector $\\mathbf{X}$ (call it $q$). Then re-do Exercise 1 but fitting for and plotting the best quadratic relationship__\n",
    "\n",
    "$g(x) = qx^2 +mx + b$ (8)\n",
    "\n",
    "__Your plot should end up looking like Figure 3.__"
   ]
  },
  {
   "cell_type": "code",
   "execution_count": 12,
   "metadata": {},
   "outputs": [
    {
     "data": {
      "text/plain": [
       "(81.9285779818747, 1.4469035120977196, 0.002719821530297928)"
      ]
     },
     "execution_count": 12,
     "metadata": {},
     "output_type": "execute_result"
    }
   ],
   "source": [
    "table_exercise_1 = table_1[4:]\n",
    "x = np.array(table_exercise_1[\"x\"])\n",
    "y = np.array(table_exercise_1[\"y\"])\n",
    "sigma_y = np.array(table_exercise_1[\"sigma_y\"])\n",
    "\n",
    "A = np.ones((x.shape[0], 3))\n",
    "A[:, 1] = x\n",
    "A[:, 2] = x**2\n",
    "A_T = A.transpose()\n",
    "\n",
    "C = np.zeros((y.shape[0], y.shape[0]))\n",
    "C_inverse = np.zeros((y.shape[0], y.shape[0]))\n",
    "for i, sigma in enumerate(sigma_y):\n",
    "    C[i, i] = sigma\n",
    "    C_inverse[i, i] = 1 / sigma\n",
    "\n",
    "X = np.matmul(np.linalg.inv(np.matmul(A_T, np.matmul(C_inverse, A))), np.matmul(A_T, np.matmul(C_inverse, y)))\n",
    "b, m, q = X\n",
    "\n",
    "b, m, q"
   ]
  },
  {
   "cell_type": "code",
   "execution_count": 13,
   "metadata": {},
   "outputs": [
    {
     "data": {
      "text/plain": [
       "[<matplotlib.lines.Line2D at 0x7f97b3b69df0>]"
      ]
     },
     "execution_count": 13,
     "metadata": {},
     "output_type": "execute_result"
    },
    {
     "data": {
      "image/png": "[encoded data removed]",
      "text/plain": [
       "<Figure size 432x288 with 1 Axes>"
      ]
     },
     "metadata": {
      "needs_background": "light"
     },
     "output_type": "display_data"
    }
   ],
   "source": [
    "y_model = q * x_model ** 2 + m * x_model + b\n",
    "\n",
    "fig, ax = plt.subplots(1, 1)\n",
    "ax.errorbar(x, y, yerr=sigma_y, fmt='o')\n",
    "ax.plot(x_model, y_model)"
   ]
  }
 ],
 "metadata": {
  "kernelspec": {
   "display_name": "Python 3 (ipykernel)",
   "language": "python",
   "name": "python3"
  },
  "language_info": {
   "codemirror_mode": {
    "name": "ipython",
    "version": 3
   },
   "file_extension": ".py",
   "mimetype": "text/x-python",
   "name": "python",
   "nbconvert_exporter": "python",
   "pygments_lexer": "ipython3",
   "version": "3.9.7"
  }
 },
 "nbformat": 4,
 "nbformat_minor": 4
}
