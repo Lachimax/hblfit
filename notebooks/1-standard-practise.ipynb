{
 "cells": [
  {
   "cell_type": "markdown",
   "metadata": {},
   "source": [
    "Based on _Hogg, Bovy & Lang (2010)_ Section 1: Standard Practise (p. 3)"
   ]
  },
  {
   "cell_type": "code",
   "execution_count": 1,
   "metadata": {},
   "outputs": [],
   "source": [
    "import numpy as np\n",
    "import numpy.linalg as la\n",
    "import os\n",
    "import pkg_resources\n",
    "import hblfit.data as dat\n",
    "import matplotlib.pyplot as plt"
   ]
  },
  {
   "cell_type": "markdown",
   "metadata": {},
   "source": [
    "Import Table 1 (HBL 2010 p. 6) from file."
   ]
  },
  {
   "cell_type": "code",
   "execution_count": 2,
   "metadata": {},
   "outputs": [
    {
     "data": {
      "text/html": [
       "<div><i>Table length=20</i>\n",
       "<table id=\"table140279545906848\" class=\"table-striped table-bordered table-condensed\">\n",
       "<thead><tr><th>id</th><th>x</th><th>y</th><th>sigma_y</th><th>sigma_x</th><th>rho_xy</th></tr></thead>\n",
       "<thead><tr><th>int64</th><th>int64</th><th>int64</th><th>int64</th><th>int64</th><th>float64</th></tr></thead>\n",
       "<tr><td>1</td><td>201</td><td>592</td><td>61</td><td>9</td><td>-0.84</td></tr>\n",
       "<tr><td>2</td><td>244</td><td>401</td><td>25</td><td>4</td><td>0.31</td></tr>\n",
       "<tr><td>3</td><td>47</td><td>583</td><td>38</td><td>11</td><td>0.64</td></tr>\n",
       "<tr><td>4</td><td>287</td><td>402</td><td>15</td><td>7</td><td>-0.27</td></tr>\n",
       "<tr><td>5</td><td>203</td><td>495</td><td>21</td><td>5</td><td>-0.33</td></tr>\n",
       "<tr><td>6</td><td>58</td><td>173</td><td>15</td><td>9</td><td>0.67</td></tr>\n",
       "<tr><td>...</td><td>...</td><td>...</td><td>...</td><td>...</td><td>...</td></tr>\n",
       "<tr><td>14</td><td>131</td><td>311</td><td>16</td><td>6</td><td>0.5</td></tr>\n",
       "<tr><td>15</td><td>166</td><td>400</td><td>34</td><td>6</td><td>0.73</td></tr>\n",
       "<tr><td>16</td><td>160</td><td>337</td><td>31</td><td>5</td><td>-0.52</td></tr>\n",
       "<tr><td>17</td><td>186</td><td>423</td><td>42</td><td>9</td><td>0.9</td></tr>\n",
       "<tr><td>18</td><td>125</td><td>334</td><td>26</td><td>8</td><td>0.4</td></tr>\n",
       "<tr><td>19</td><td>218</td><td>533</td><td>16</td><td>6</td><td>-0.78</td></tr>\n",
       "<tr><td>20</td><td>146</td><td>344</td><td>22</td><td>5</td><td>-0.56</td></tr>\n",
       "</table></div>"
      ],
      "text/plain": [
       "<Table length=20>\n",
       "  id    x     y   sigma_y sigma_x  rho_xy\n",
       "int64 int64 int64  int64   int64  float64\n",
       "----- ----- ----- ------- ------- -------\n",
       "    1   201   592      61       9   -0.84\n",
       "    2   244   401      25       4    0.31\n",
       "    3    47   583      38      11    0.64\n",
       "    4   287   402      15       7   -0.27\n",
       "    5   203   495      21       5   -0.33\n",
       "    6    58   173      15       9    0.67\n",
       "  ...   ...   ...     ...     ...     ...\n",
       "   14   131   311      16       6     0.5\n",
       "   15   166   400      34       6    0.73\n",
       "   16   160   337      31       5   -0.52\n",
       "   17   186   423      42       9     0.9\n",
       "   18   125   334      26       8     0.4\n",
       "   19   218   533      16       6   -0.78\n",
       "   20   146   344      22       5   -0.56"
      ]
     },
     "execution_count": 2,
     "metadata": {},
     "output_type": "execute_result"
    }
   ],
   "source": [
    "table_1 = dat.get_table(1)\n",
    "table_1"
   ]
  },
  {
   "cell_type": "markdown",
   "metadata": {},
   "source": [
    "# Exercise 1\n",
    "\n",
    "__Using the standard linear algebra method of this Section, fit the straight line $y = mx + b$ to the $x$, $y$, and $σ_y$ values for data points 5 through 20 in Table 1 on page 6. That is, ignore the first four data points, and also ignore the columns for $σ_x$ and $ρ_{xy}$. Make a plot showing the points, their uncertainties, and the best-fit line. Your plot should end up looking like Figure 1. What is the standard uncertainty variance $σ^2_m$\n",
    "on the slope of the line?__"
   ]
  },
  {
   "cell_type": "code",
   "execution_count": 3,
   "metadata": {},
   "outputs": [],
   "source": [
    "table_exercise_1 = table_1[4:]\n",
    "x = np.array(table_exercise_1[\"x\"])\n",
    "y = np.array(table_exercise_1[\"y\"])\n",
    "sigma_y = np.array(table_exercise_1[\"sigma_y\"])"
   ]
  },
  {
   "cell_type": "markdown",
   "metadata": {},
   "source": [
    "First, we set up $\\mathbf{A}$ and $\\mathbf{A}^\\mathrm{T}$ according to __Equation 3__:"
   ]
  },
  {
   "cell_type": "code",
   "execution_count": 4,
   "metadata": {},
   "outputs": [
    {
     "data": {
      "text/plain": [
       "array([[  1., 203.],\n",
       "       [  1.,  58.],\n",
       "       [  1., 210.],\n",
       "       [  1., 202.],\n",
       "       [  1., 198.],\n",
       "       [  1., 158.],\n",
       "       [  1., 165.],\n",
       "       [  1., 201.],\n",
       "       [  1., 157.],\n",
       "       [  1., 131.],\n",
       "       [  1., 166.],\n",
       "       [  1., 160.],\n",
       "       [  1., 186.],\n",
       "       [  1., 125.],\n",
       "       [  1., 218.],\n",
       "       [  1., 146.]])"
      ]
     },
     "execution_count": 4,
     "metadata": {},
     "output_type": "execute_result"
    }
   ],
   "source": [
    "A = np.ones((x.shape[0], 2))\n",
    "A[:, 1] = x\n",
    "A_T = A.transpose()\n",
    "A"
   ]
  },
  {
   "cell_type": "markdown",
   "metadata": {},
   "source": [
    "Let's set up the covariance matrix, and its inverse, according to __Equation 4__:"
   ]
  },
  {
   "cell_type": "code",
   "execution_count": 5,
   "metadata": {},
   "outputs": [],
   "source": [
    "C = np.zeros((y.shape[0], y.shape[0]))\n",
    "C_inverse = np.zeros((y.shape[0], y.shape[0]))\n",
    "for i, sigma in enumerate(sigma_y):\n",
    "    C[i, i] = sigma ** 2\n",
    "    C_inverse[i, i] = 1 / sigma ** 2"
   ]
  },
  {
   "cell_type": "markdown",
   "metadata": {},
   "source": [
    "Now find (b, m) according to __Equation 5__:"
   ]
  },
  {
   "cell_type": "code",
   "execution_count": 6,
   "metadata": {},
   "outputs": [
    {
     "data": {
      "text/plain": [
       "(34.047727757542816, 2.2399208316310926)"
      ]
     },
     "execution_count": 6,
     "metadata": {},
     "output_type": "execute_result"
    }
   ],
   "source": [
    "covariance = la.inv(la.multi_dot([A_T, C_inverse, A]))\n",
    "X = np.dot(covariance, la.multi_dot([A_T, C_inverse, y]))\n",
    "b, m = X\n",
    "b, m"
   ]
  },
  {
   "cell_type": "markdown",
   "metadata": {},
   "source": [
    "The 'standard uncertainty variance' is to be found in the diagonals of the covariance matrix."
   ]
  },
  {
   "cell_type": "code",
   "execution_count": 8,
   "metadata": {},
   "outputs": [
    {
     "data": {
      "text/plain": [
       "(332.92260104209953, 0.011616631123297434)"
      ]
     },
     "execution_count": 8,
     "metadata": {},
     "output_type": "execute_result"
    }
   ],
   "source": [
    "var_b = covariance[0,0]\n",
    "var_m = covariance[1,1]\n",
    "var_b, var_m"
   ]
  },
  {
   "cell_type": "markdown",
   "metadata": {},
   "source": [
    "And we can translate that into standard uncertainty:"
   ]
  },
  {
   "cell_type": "code",
   "execution_count": 9,
   "metadata": {},
   "outputs": [
    {
     "data": {
      "text/plain": [
       "(18.246166749268173, 0.10778047654050076)"
      ]
     },
     "execution_count": 9,
     "metadata": {},
     "output_type": "execute_result"
    }
   ],
   "source": [
    "sigma_b = np.sqrt(var_b)\n",
    "sigma_m = np.sqrt(var_m)\n",
    "sigma_b, sigma_m"
   ]
  },
  {
   "cell_type": "markdown",
   "metadata": {},
   "source": [
    "Here's our plot:"
   ]
  },
  {
   "cell_type": "code",
   "execution_count": 10,
   "metadata": {
    "scrolled": true
   },
   "outputs": [
    {
     "data": {
      "text/plain": [
       "Text(0, 600, '$y = (2.24 \\\\pm 0.11)x + (34.0 \\\\pm 18.0)$')"
      ]
     },
     "execution_count": 10,
     "metadata": {},
     "output_type": "execute_result"
    },
    {
     "data": {
      "image/png": "[encoded data removed]",
      "text/plain": [
       "<Figure size 432x288 with 1 Axes>"
      ]
     },
     "metadata": {
      "needs_background": "light"
     },
     "output_type": "display_data"
    }
   ],
   "source": [
    "x_model = np.linspace(0, 280)\n",
    "y_model = m * x_model + b\n",
    "fig, ax = plt.subplots(1, 1)\n",
    "ax.errorbar(x, y, yerr=sigma_y, fmt='o')\n",
    "ax.plot(x_model, y_model)\n",
    "ax.text(0, 600, f\"$y = ({m.round(2)} \\pm {sigma_m.round(2)})x + ({b.round(0)} \\pm {sigma_b.round(0)})$\")"
   ]
  },
  {
   "cell_type": "markdown",
   "metadata": {},
   "source": [
    "Let's turn this into a function:"
   ]
  },
  {
   "cell_type": "code",
   "execution_count": 15,
   "metadata": {},
   "outputs": [],
   "source": [
    "def covariance_matrix_from_data(sigmas):\n",
    "    # This will only handle the simple diagonal case.\n",
    "    C = np.zeros((sigmas.shape[0], sigmas.shape[0]))\n",
    "    C_inverse = np.zeros((sigmas.shape[0], sigmas.shape[0]))\n",
    "    for i, sigma in enumerate(sigmas):\n",
    "        C[i, i] = sigma ** 2\n",
    "        C_inverse[i, i] = 1 / sigma ** 2\n",
    "    return C, C_inverse\n",
    "        \n",
    "def linear_standard(x, y, sigma_y):\n",
    "    # First, we set up matrix A according to Equation 3:\n",
    "    A = np.ones((x.shape[0], 2))\n",
    "    A[:, 1] = x\n",
    "    A_T = A.transpose()\n",
    "    # Let's set up the covariance matrix, and its inverse, according to Equation 4:\n",
    "    C, C_inverse = covariance_matrix_from_data(sigma_y)\n",
    "    # Now find (b, m) according to Equation 5:\n",
    "    covariance = la.inv(la.multi_dot([A_T, C_inverse, A]))\n",
    "    X = np.dot(covariance, la.multi_dot([A_T, C_inverse, y]))\n",
    "    b, m = X\n",
    "    return b, m, covariance"
   ]
  },
  {
   "cell_type": "markdown",
   "metadata": {},
   "source": [
    "# Exercise 2\n",
    "__Repeat Exercise 1 but for all the data points in Table 1 on page 6. Your plot should end up looking like Figure 2. What is the standard uncertainty variance $σ^2_m$ on the slope of the line? Is there anything you don’t\n",
    "like about the result? Is there anything different about the new points you have included beyond those used in Exercise 1?__"
   ]
  },
  {
   "cell_type": "markdown",
   "metadata": {},
   "source": [
    "As above, but this time with the full data set:"
   ]
  },
  {
   "cell_type": "code",
   "execution_count": 23,
   "metadata": {},
   "outputs": [
    {
     "name": "stdout",
     "output_type": "stream",
     "text": [
      "1.0767475241683329 213.2734919759605\n"
     ]
    },
    {
     "data": {
      "image/png": "[encoded data removed]",
      "text/plain": [
       "<Figure size 432x288 with 1 Axes>"
      ]
     },
     "metadata": {
      "needs_background": "light"
     },
     "output_type": "display_data"
    }
   ],
   "source": [
    "x = np.array(table_1[\"x\"])\n",
    "y = np.array(table_1[\"y\"])\n",
    "sigma_y = np.array(table_1[\"sigma_y\"])\n",
    "\n",
    "b, m, covariance = linear_standard(x, y, sigma_y)\n",
    "var_b = covariance[0, 0]\n",
    "var_m = covariance[1, 1]\n",
    "sigma_b = np.sqrt(var_b)\n",
    "sigma_m = np.sqrt(var_m)\n",
    "\n",
    "y_model = m * x_model + b\n",
    "\n",
    "fig, ax = plt.subplots(1, 1)\n",
    "ax.errorbar(x, y, yerr=sigma_y, fmt='o')\n",
    "ax.plot(x_model, y_model)\n",
    "ax.text(100, 200, f\"$y = ({m.round(2)} \\pm {sigma_m.round(2)})x + ({b.round(0)} \\pm {sigma_b.round(0)})$\")\n",
    "\n",
    "print(m, b)"
   ]
  },
  {
   "cell_type": "markdown",
   "metadata": {},
   "source": [
    "What we don't like, probably, is that the outliers drastically affect the fit, and that the apparent poorness of the fit is not reflected in an increase in uncertainty (it is, in fact, smaller):"
   ]
  },
  {
   "cell_type": "code",
   "execution_count": 25,
   "metadata": {},
   "outputs": [
    {
     "name": "stdout",
     "output_type": "stream",
     "text": [
      "207.1881890900818 0.005991810080070381\n",
      "14.39403310716221 0.0774067831657561\n"
     ]
    }
   ],
   "source": [
    "print(var_b, var_m)\n",
    "print(sigma_b, sigma_m)"
   ]
  },
  {
   "cell_type": "markdown",
   "metadata": {},
   "source": [
    "# Exercise 3\n",
    "__Generalize the method of this Section to fit a general quadratic (second order) relationship. Add another column to matrix $\\mathbf{A}$ containing the values $x^2_i$, and another element to vector $\\mathbf{X}$ (call it $q$). Then re-do Exercise 1 but fitting for and plotting the best quadratic relationship__\n",
    "\n",
    "$g(x) = qx^2 +mx + b$ (8)\n",
    "\n",
    "__Your plot should end up looking like Figure 3.__"
   ]
  },
  {
   "cell_type": "code",
   "execution_count": 30,
   "metadata": {},
   "outputs": [
    {
     "data": {
      "text/plain": [
       "(72.89462647168693, 1.5960504522745396, 0.0022988884081209804)"
      ]
     },
     "execution_count": 30,
     "metadata": {},
     "output_type": "execute_result"
    }
   ],
   "source": [
    "table_exercise_1 = table_1[4:]\n",
    "x = np.array(table_exercise_1[\"x\"])\n",
    "y = np.array(table_exercise_1[\"y\"])\n",
    "sigma_y = np.array(table_exercise_1[\"sigma_y\"])\n",
    "\n",
    "A = np.ones((x.shape[0], 3))\n",
    "A[:, 1] = x\n",
    "A[:, 2] = x**2\n",
    "A_T = A.transpose()\n",
    "\n",
    "C, C_inverse = covariance_matrix_from_data(sigma_y)\n",
    "covariance = la.inv(la.multi_dot([A_T, C_inverse, A]))\n",
    "X = X = np.dot(covariance, la.multi_dot([A_T, C_inverse, y]))\n",
    "b, m, q = X\n",
    "sigma_b = np.sqrt(covariance[0, 0])\n",
    "sigma_m = np.sqrt(covariance[1, 1])\n",
    "sigma_q = np.sqrt(covariance[2, 2])\n",
    "\n",
    "b, m, q"
   ]
  },
  {
   "cell_type": "code",
   "execution_count": 31,
   "metadata": {},
   "outputs": [
    {
     "data": {
      "text/plain": [
       "Text(100, 200, '$y = (0.0023 \\\\pm 0.002) x^2 (1.6 \\\\pm 0.58) x + (73.0 \\\\pm 39.0)$')"
      ]
     },
     "execution_count": 31,
     "metadata": {},
     "output_type": "execute_result"
    },
    {
     "data": {
      "image/png": "[encoded data removed]",
      "text/plain": [
       "<Figure size 432x288 with 1 Axes>"
      ]
     },
     "metadata": {
      "needs_background": "light"
     },
     "output_type": "display_data"
    }
   ],
   "source": [
    "y_model = q * x_model ** 2 + m * x_model + b\n",
    "\n",
    "fig, ax = plt.subplots(1, 1)\n",
    "ax.errorbar(x, y, yerr=sigma_y, fmt='o')\n",
    "ax.plot(x_model, y_model)\n",
    "ax.text(100, 200, f\"$y = ({q.round(4)} \\pm {sigma_q.round(4)}) x^2 ({m.round(2)} \\pm {sigma_m.round(2)}) x + ({b.round(0)} \\pm {sigma_b.round(0)})$\")"
   ]
  }
 ],
 "metadata": {
  "kernelspec": {
   "display_name": "Python 3 (ipykernel)",
   "language": "python",
   "name": "python3"
  },
  "language_info": {
   "codemirror_mode": {
    "name": "ipython",
    "version": 3
   },
   "file_extension": ".py",
   "mimetype": "text/x-python",
   "name": "python",
   "nbconvert_exporter": "python",
   "pygments_lexer": "ipython3",
   "version": "3.9.7"
  }
 },
 "nbformat": 4,
 "nbformat_minor": 4
}
