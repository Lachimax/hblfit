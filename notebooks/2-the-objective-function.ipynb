{
 "cells": [
  {
   "cell_type": "markdown",
   "metadata": {},
   "source": [
    "Based on _Hogg, Bovy & Lang (2010)_ Section 2: The objective function (p. 8)"
   ]
  },
  {
   "cell_type": "code",
   "execution_count": 1,
   "metadata": {},
   "outputs": [],
   "source": [
    "import numpy as np\n",
    "import numpy.linalg as la\n",
    "import os\n",
    "import pkg_resources\n",
    "import hblfit.data as dat\n",
    "import matplotlib.pyplot as plt"
   ]
  },
  {
   "cell_type": "markdown",
   "metadata": {},
   "source": [
    "# Exercise 1\n",
    "\n",
    "__Imagine a set of $N$ measurements $t_i$, with uncertainty variances $\\sigma_{ti}$, all of the same (unknown) quantity $T$. Assuming the generative model that each $t_i$ differs from T by a Gaussian-distributed offset, taken from a Gaussian with zero mean and variance $\\sigma^2_{ti}$, write down an expression for the log likelihood $\\ln\\mathcal L$ for the data given the model parameter T. Take a derivative and show that the maximum likelihood value for $T$ is the usual weighted mean.__"
   ]
  },
  {
   "cell_type": "markdown",
   "metadata": {},
   "source": [
    "We take $t_i$ in place of $y_i$ because the data points $t_i$ have uncertainty, and as explained in footnote 7 of HBL2010 we should fit the quantity with the larger uncertainties as a function of the one with the smaller, i.e. $t = f(t)$."
   ]
  }
 ],
 "metadata": {
  "kernelspec": {
   "display_name": "Python 3",
   "language": "python",
   "name": "python3"
  },
  "language_info": {
   "codemirror_mode": {
    "name": "ipython",
    "version": 3
   },
   "file_extension": ".py",
   "mimetype": "text/x-python",
   "name": "python",
   "nbconvert_exporter": "python",
   "pygments_lexer": "ipython3",
   "version": "3.7.3"
  }
 },
 "nbformat": 4,
 "nbformat_minor": 2
}
